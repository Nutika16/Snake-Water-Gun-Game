{
  "nbformat": 4,
  "nbformat_minor": 0,
  "metadata": {
    "colab": {
      "provenance": [],
      "collapsed_sections": []
    },
    "kernelspec": {
      "name": "python3",
      "display_name": "Python 3"
    },
    "language_info": {
      "name": "python"
    }
  },
  "cells": [
    {
      "cell_type": "code",
      "metadata": {
        "colab": {
          "base_uri": "https://localhost:8080/"
        },
        "id": "EBCVKGs6buRN",
        "outputId": "7600ab66-d8a0-40ad-c631-d94fc759dbb5"
      },
      "source": [
        "import random\n",
        "def gameWin(comp,you):\n",
        "  if comp==you:\n",
        "    return None\n",
        "  elif comp=='s':\n",
        "    if you=='w':\n",
        "      return False\n",
        "    elif you=='g':\n",
        "      return True\n",
        "  elif comp=='w':\n",
        "    if you=='g':\n",
        "      return False\n",
        "    elif you=='s':\n",
        "      return True\n",
        "  elif comp=='g':\n",
        "    if you=='s':\n",
        "      return False\n",
        "    elif you=='w':\n",
        "      return True\n",
        "\n",
        "print(\"Comp Turn: Snake(s), Water(w), Gun(g)? \")\n",
        "randNo= random.randint(1,3)\n",
        "\n",
        "if randNo==1:\n",
        "  comp='s'\n",
        "elif randNo==2:\n",
        "  comp='w'\n",
        "elif randNo==3:\n",
        "  comp='g'\n",
        "\n",
        "you=input(\"Your Turn: Snake(s), Water(w), Gun(g)\" \"\\n\")\n",
        "a=gameWin(comp,you)\n",
        "\n",
        "print(f\"Comp chose  {comp}\")\n",
        "print(f\"You chose  {you}\")\n",
        "if a==None:\n",
        "  print(\" GAME IS TIE \")\n",
        "elif a:\n",
        "  print(\"CONGRATULATIONS!! YOU WIN. \")\n",
        "else:\n",
        "  print(\"SORRY!! YOU LOSE. \")"
      ],
      "execution_count": 9,
      "outputs": [
        {
          "output_type": "stream",
          "name": "stdout",
          "text": [
            "Comp Turn: Snake(s), Water(w), Gun(g)? \n",
            "Your Turn: Snake(s), Water(w), Gun(g)\n",
            "g\n",
            "Comp chose  w\n",
            "You chose  g\n",
            "SORRY!! YOU LOSE. \n"
          ]
        }
      ]
    }
  ]
}